{
 "cells": [
  {
   "cell_type": "markdown",
   "id": "0566ab7d-5b3e-4d90-bc2a-77e7a558bf05",
   "metadata": {},
   "source": [
    "Compounding Interest Calculator"
   ]
  },
  {
   "cell_type": "code",
   "execution_count": 33,
   "id": "bd0ba06b-027a-4bf7-b9f0-1f47038a5d9c",
   "metadata": {},
   "outputs": [
    {
     "name": "stdin",
     "output_type": "stream",
     "text": [
      "Please enter your name Mercy\n",
      "Enter starting principal please.  8000\n",
      "Enter number of compounding periods per year.  4\n",
      "Enter annual interest rate. e.g. 15 for 15%  12\n",
      "Enter the amount of years.  5\n"
     ]
    },
    {
     "name": "stdout",
     "output_type": "stream",
     "text": [
      "The final amount after 5 years is 14448.88987735532\n",
      "mercy, you are average, you should invest more to gain financial independence.\n"
     ]
    }
   ],
   "source": [
    "##input from the user\n",
    "\n",
    "x = input(\"Please enter your name\")\n",
    "P = int(input(\"Enter starting principal please. \"))\n",
    "n = int(input(\"Enter number of compounding periods per year. \"))\n",
    "r = float(input(\"Enter annual interest rate. e.g. 15 for 15% \"))\n",
    "y = int(input(\"Enter the amount of years. \"))\n",
    "\n",
    "##formula for calculating compound interest\n",
    "\n",
    "FV = P * (((1 + ((r/100.0)/n)) ** (n*y)))\n",
    "\n",
    "print (\"The final amount after\", y, \"years is\", FV)\n",
    "\n",
    "if FV >0:\n",
    "    if(FV) <10000:\n",
    "        print(name + \", you are on the red line\")\n",
    "    elif(FV) <=15000:\n",
    "        print(name + \", you are average, you should invest more to gain financial independence.\")\n",
    "    elif(FV) <=20000:\n",
    "        print(name + \", you are rich.\")\n",
    "    elif(FV) >25000:\n",
    "        print(name + \", you are wealthy.\")\n",
    "    else:\n",
    "        print(name + \", you are very wealthy. \")\n",
    "\n",
    "else:\n",
    "    print(\"Enter a valid input\")\n"
   ]
  },
  {
   "cell_type": "code",
   "execution_count": 34,
   "id": "61759d2f-0d38-47ed-b5cf-88e515f24654",
   "metadata": {},
   "outputs": [
    {
     "name": "stdout",
     "output_type": "stream",
     "text": [
      "mercy, you are average, you should invest more to gain financial independence.\n"
     ]
    }
   ],
   "source": [
    "if FV >0:\n",
    "    if(FV) <10000:\n",
    "        print(name + \", you are on the red line\")\n",
    "    elif(FV) <=15000:\n",
    "        print(name + \", you are average, you should invest more to gain financial independence.\")\n",
    "    elif(FV) <=20000:\n",
    "        print(name + \", you are rich.\")\n",
    "    elif(FV) >25000:\n",
    "        print(name + \", you are wealthy.\")\n",
    "    else:\n",
    "        print(name + \", you are very wealthy. \")\n",
    "\n",
    "else:\n",
    "    print(\"Enter a valid input\")"
   ]
  },
  {
   "cell_type": "code",
   "execution_count": 35,
   "id": "c2f3d688-ef28-4fef-9ac6-eaa8f6b8c98a",
   "metadata": {},
   "outputs": [],
   "source": [
    "FV = P * (((1 + ((r/100.0)/n)) ** (n*y)))"
   ]
  }
 ],
 "metadata": {
  "kernelspec": {
   "display_name": "Python 3 (ipykernel)",
   "language": "python",
   "name": "python3"
  },
  "language_info": {
   "codemirror_mode": {
    "name": "ipython",
    "version": 3
   },
   "file_extension": ".py",
   "mimetype": "text/x-python",
   "name": "python",
   "nbconvert_exporter": "python",
   "pygments_lexer": "ipython3",
   "version": "3.11.7"
  }
 },
 "nbformat": 4,
 "nbformat_minor": 5
}

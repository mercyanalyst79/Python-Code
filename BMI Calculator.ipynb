{
 "cells": [
  {
   "cell_type": "markdown",
   "id": "d8c3b1e4-2a1e-4f29-ba88-bb9d1210f79d",
   "metadata": {},
   "source": [
    "        #BMI Calculator"
   ]
  },
  {
   "cell_type": "code",
   "execution_count": 24,
   "id": "10d64047-961b-42f5-b824-21e6711f9d5b",
   "metadata": {},
   "outputs": [
    {
     "name": "stdin",
     "output_type": "stream",
     "text": [
      "Enter your name:  Mercy\n",
      "Enter your weight in pounds:  154\n",
      "Enter your height in inches:  62\n"
     ]
    },
    {
     "name": "stdout",
     "output_type": "stream",
     "text": [
      "28.16389177939646\n",
      "Mercy, you are overweight. You should exercise more and stop sitting and writing python tutorials.\n"
     ]
    }
   ],
   "source": [
    "name = input(\"Enter your name: \")\n",
    "\n",
    "weight = int(input(\"Enter your weight in pounds: \"))\n",
    "\n",
    "\n",
    "height = int(input(\"Enter your height in inches: \"))\n",
    "\n",
    "BMI = (weight * 703) / (height * height)\n",
    "\n",
    "print(BMI)\n",
    "\n",
    "if BMI>0:\n",
    "    if(BMI<18.5):\n",
    "        print(name + \", you are underweight.\")\n",
    "    elif(BMI<= 24.9):\n",
    "        print(name + \", you are normal weight.\")\n",
    "    elif(BMI<29.9):\n",
    "         print(name + \", you are overweight. You should exercise more and stop sitting and writing python tutorials.\")\n",
    "    elif(BMI>=30):\n",
    "        print(name + \", you are obese.\")\n",
    "    else:\n",
    "        print(name + \", you are morbidly obese.\")\n",
    "\n",
    "else:\n",
    "    print(\"Enter a valid input\")"
   ]
  },
  {
   "cell_type": "code",
   "execution_count": 9,
   "id": "ce9a26c5-22b6-4f68-8e0c-4da0abb331f9",
   "metadata": {},
   "outputs": [
    {
     "name": "stdout",
     "output_type": "stream",
     "text": [
      "28.16389177939646\n"
     ]
    }
   ],
   "source": [
    "print(BMI)"
   ]
  },
  {
   "cell_type": "code",
   "execution_count": null,
   "id": "0caf70fd-695d-4c28-ba3e-28a87e65d9ff",
   "metadata": {},
   "outputs": [],
   "source": []
  },
  {
   "cell_type": "code",
   "execution_count": null,
   "id": "0355fa3a-54e1-4df4-9cb4-fc2cf8b5e9b4",
   "metadata": {},
   "outputs": [],
   "source": [
    "Below 18.5\tUnderweight\n",
    "18.5 - 24.9\tHealthy weight\n",
    "25.0 - 29.9\tOverweight\n",
    "30.0 and above\tObesity"
   ]
  },
  {
   "cell_type": "code",
   "execution_count": 23,
   "id": "341f63e0-e63e-4b97-bb92-90a3d76b4bee",
   "metadata": {},
   "outputs": [
    {
     "name": "stdout",
     "output_type": "stream",
     "text": [
      "Mercy, you are overweight. You should exercise more and stop sitting and writing python tutorials.\n"
     ]
    }
   ],
   "source": [
    "if BMI>0:\n",
    "    if(BMI<18.5):\n",
    "        print(name + \", you are underweight.\")\n",
    "    elif(BMI<= 24.9):\n",
    "        print(name + \", you are normal weight.\")\n",
    "    elif(BMI<29.9):\n",
    "         print(name + \", you are overweight. You should exercise more and stop sitting and writing python tutorials.\")\n",
    "    elif(BMI>30):\n",
    "        print(name + \", you are obese.\")\n",
    "    else:\n",
    "        print(name + \", you are morbidly obese.\")\n",
    "else:\n",
    "    print(\"Enter a valid input\")"
   ]
  },
  {
   "cell_type": "code",
   "execution_count": null,
   "id": "e5b41ffb-3dae-4061-8549-3373bba965d7",
   "metadata": {},
   "outputs": [],
   "source": []
  }
 ],
 "metadata": {
  "kernelspec": {
   "display_name": "Python 3 (ipykernel)",
   "language": "python",
   "name": "python3"
  },
  "language_info": {
   "codemirror_mode": {
    "name": "ipython",
    "version": 3
   },
   "file_extension": ".py",
   "mimetype": "text/x-python",
   "name": "python",
   "nbconvert_exporter": "python",
   "pygments_lexer": "ipython3",
   "version": "3.11.7"
  }
 },
 "nbformat": 4,
 "nbformat_minor": 5
}
